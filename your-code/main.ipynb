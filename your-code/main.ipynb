{
 "cells": [
  {
   "cell_type": "markdown",
   "metadata": {},
   "source": [
    "# Before your start:\n",
    "- Read the README.md file\n",
    "- Comment as much as you can and use the resources in the README.md file\n",
    "- Happy learning!\n"
   ]
  },
  {
   "cell_type": "code",
   "execution_count": 11,
   "metadata": {},
   "outputs": [],
   "source": [
    "#Import your libraries\n",
    "import pandas as pd\n",
    "import numpy as np\n",
    "import matplotlib.pyplot as plt"
   ]
  },
  {
   "cell_type": "markdown",
   "metadata": {},
   "source": [
    "# Challenge 1 -  Explore the Internal Dataset\n",
    "\n",
    "In this lab, we will start off by working with the wine dataset in scikit-learn. We will select the wine dataset and use a clustering algorithm to learn more about the functionalities of this library. \n",
    "\n",
    "We start off by loading the dataset using the `load_wine` function ([documentation](https://scikit-learn.org/stable/modules/generated/sklearn.datasets.load_wine.html)). In the cell below, we will import the function from scikit-learn."
   ]
  },
  {
   "cell_type": "code",
   "execution_count": 4,
   "metadata": {},
   "outputs": [],
   "source": [
    "from sklearn.datasets import load_wine"
   ]
  },
  {
   "cell_type": "markdown",
   "metadata": {},
   "source": [
    "In the cell below, use the `load_wine` function and assign the wine dataset to a variable called `wine`."
   ]
  },
  {
   "cell_type": "code",
   "execution_count": 5,
   "metadata": {},
   "outputs": [],
   "source": [
    "# Your code here:\n",
    "wine=load_wine()"
   ]
  },
  {
   "cell_type": "markdown",
   "metadata": {},
   "source": [
    "In the next step, list the keys of the variable `wine` to examine its contents. Note that the `load_wine` function does not return dataframes. It returns you a Python dictionary."
   ]
  },
  {
   "cell_type": "code",
   "execution_count": 6,
   "metadata": {},
   "outputs": [
    {
     "data": {
      "text/plain": [
       "dict_keys(['data', 'target', 'frame', 'target_names', 'DESCR', 'feature_names'])"
      ]
     },
     "execution_count": 6,
     "metadata": {},
     "output_type": "execute_result"
    }
   ],
   "source": [
    "# Your code here:\n",
    "wine.keys()"
   ]
  },
  {
   "cell_type": "markdown",
   "metadata": {},
   "source": [
    "Next, list the feature names. These are the different characteristics of the wine. "
   ]
  },
  {
   "cell_type": "code",
   "execution_count": 7,
   "metadata": {},
   "outputs": [
    {
     "data": {
      "text/plain": [
       "['alcohol',\n",
       " 'malic_acid',\n",
       " 'ash',\n",
       " 'alcalinity_of_ash',\n",
       " 'magnesium',\n",
       " 'total_phenols',\n",
       " 'flavanoids',\n",
       " 'nonflavanoid_phenols',\n",
       " 'proanthocyanins',\n",
       " 'color_intensity',\n",
       " 'hue',\n",
       " 'od280/od315_of_diluted_wines',\n",
       " 'proline']"
      ]
     },
     "execution_count": 7,
     "metadata": {},
     "output_type": "execute_result"
    }
   ],
   "source": [
    "# Your code here:\n",
    "wine['feature_names']"
   ]
  },
  {
   "cell_type": "markdown",
   "metadata": {},
   "source": [
    "Print the description of the dataset in the cell below using the `DESCR` attribute of the `wine` variable.\n",
    "\n",
    "*Hint: If your output is ill-formatted by displaying linebreaks as `\\n`, it means you are not using the print function.*"
   ]
  },
  {
   "cell_type": "code",
   "execution_count": 9,
   "metadata": {},
   "outputs": [
    {
     "name": "stdout",
     "output_type": "stream",
     "text": [
      ".. _wine_dataset:\n",
      "\n",
      "Wine recognition dataset\n",
      "------------------------\n",
      "\n",
      "**Data Set Characteristics:**\n",
      "\n",
      "    :Number of Instances: 178 (50 in each of three classes)\n",
      "    :Number of Attributes: 13 numeric, predictive attributes and the class\n",
      "    :Attribute Information:\n",
      " \t\t- Alcohol\n",
      " \t\t- Malic acid\n",
      " \t\t- Ash\n",
      "\t\t- Alcalinity of ash  \n",
      " \t\t- Magnesium\n",
      "\t\t- Total phenols\n",
      " \t\t- Flavanoids\n",
      " \t\t- Nonflavanoid phenols\n",
      " \t\t- Proanthocyanins\n",
      "\t\t- Color intensity\n",
      " \t\t- Hue\n",
      " \t\t- OD280/OD315 of diluted wines\n",
      " \t\t- Proline\n",
      "\n",
      "    - class:\n",
      "            - class_0\n",
      "            - class_1\n",
      "            - class_2\n",
      "\t\t\n",
      "    :Summary Statistics:\n",
      "    \n",
      "    ============================= ==== ===== ======= =====\n",
      "                                   Min   Max   Mean     SD\n",
      "    ============================= ==== ===== ======= =====\n",
      "    Alcohol:                      11.0  14.8    13.0   0.8\n",
      "    Malic Acid:                   0.74  5.80    2.34  1.12\n",
      "    Ash:                          1.36  3.23    2.36  0.27\n",
      "    Alcalinity of Ash:            10.6  30.0    19.5   3.3\n",
      "    Magnesium:                    70.0 162.0    99.7  14.3\n",
      "    Total Phenols:                0.98  3.88    2.29  0.63\n",
      "    Flavanoids:                   0.34  5.08    2.03  1.00\n",
      "    Nonflavanoid Phenols:         0.13  0.66    0.36  0.12\n",
      "    Proanthocyanins:              0.41  3.58    1.59  0.57\n",
      "    Colour Intensity:              1.3  13.0     5.1   2.3\n",
      "    Hue:                          0.48  1.71    0.96  0.23\n",
      "    OD280/OD315 of diluted wines: 1.27  4.00    2.61  0.71\n",
      "    Proline:                       278  1680     746   315\n",
      "    ============================= ==== ===== ======= =====\n",
      "\n",
      "    :Missing Attribute Values: None\n",
      "    :Class Distribution: class_0 (59), class_1 (71), class_2 (48)\n",
      "    :Creator: R.A. Fisher\n",
      "    :Donor: Michael Marshall (MARSHALL%PLU@io.arc.nasa.gov)\n",
      "    :Date: July, 1988\n",
      "\n",
      "This is a copy of UCI ML Wine recognition datasets.\n",
      "https://archive.ics.uci.edu/ml/machine-learning-databases/wine/wine.data\n",
      "\n",
      "The data is the results of a chemical analysis of wines grown in the same\n",
      "region in Italy by three different cultivators. There are thirteen different\n",
      "measurements taken for different constituents found in the three types of\n",
      "wine.\n",
      "\n",
      "Original Owners: \n",
      "\n",
      "Forina, M. et al, PARVUS - \n",
      "An Extendible Package for Data Exploration, Classification and Correlation. \n",
      "Institute of Pharmaceutical and Food Analysis and Technologies,\n",
      "Via Brigata Salerno, 16147 Genoa, Italy.\n",
      "\n",
      "Citation:\n",
      "\n",
      "Lichman, M. (2013). UCI Machine Learning Repository\n",
      "[https://archive.ics.uci.edu/ml]. Irvine, CA: University of California,\n",
      "School of Information and Computer Science. \n",
      "\n",
      ".. topic:: References\n",
      "\n",
      "  (1) S. Aeberhard, D. Coomans and O. de Vel, \n",
      "  Comparison of Classifiers in High Dimensional Settings, \n",
      "  Tech. Rep. no. 92-02, (1992), Dept. of Computer Science and Dept. of  \n",
      "  Mathematics and Statistics, James Cook University of North Queensland. \n",
      "  (Also submitted to Technometrics). \n",
      "\n",
      "  The data was used with many others for comparing various \n",
      "  classifiers. The classes are separable, though only RDA \n",
      "  has achieved 100% correct classification. \n",
      "  (RDA : 100%, QDA 99.4%, LDA 98.9%, 1NN 96.1% (z-transformed data)) \n",
      "  (All results using the leave-one-out technique) \n",
      "\n",
      "  (2) S. Aeberhard, D. Coomans and O. de Vel, \n",
      "  \"THE CLASSIFICATION PERFORMANCE OF RDA\" \n",
      "  Tech. Rep. no. 92-01, (1992), Dept. of Computer Science and Dept. of \n",
      "  Mathematics and Statistics, James Cook University of North Queensland. \n",
      "  (Also submitted to Journal of Chemometrics).\n",
      "\n"
     ]
    }
   ],
   "source": [
    "# Your code here:\n",
    "print(wine.DESCR)\n"
   ]
  },
  {
   "cell_type": "markdown",
   "metadata": {},
   "source": [
    "#### From the description, we see that all columns are numeric. We also know that there is no missing data \n",
    "\n",
    "Let's plot the alcohol content histogram. Recall that we are working with a numpy array and will need to use a matplotlib function to produce a histogram. "
   ]
  },
  {
   "cell_type": "code",
   "execution_count": 18,
   "metadata": {},
   "outputs": [
    {
     "data": {
      "image/png": "[encoded data removed]",
      "text/plain": [
       "<Figure size 432x288 with 1 Axes>"
      ]
     },
     "metadata": {
      "needs_background": "light"
     },
     "output_type": "display_data"
    }
   ],
   "source": [
    "# imports\n",
    "plt.hist(wine['data'][:,0]);"
   ]
  },
  {
   "cell_type": "markdown",
   "metadata": {},
   "source": [
    "# Challenge 2 - Clustering the Internal Dataset\n",
    "\n",
    "In this portion of the lab, we will cluster the data to find common traits between the different wines. We will use the k-means clustering algorithm to achieve this goal.\n",
    "\n",
    "#### We start by importing k-means from scikit-learn and then proceed to create 4 clusters."
   ]
  },
  {
   "cell_type": "code",
   "execution_count": 52,
   "metadata": {},
   "outputs": [],
   "source": [
    "# imports\n",
    "from sklearn.cluster import KMeans"
   ]
  },
  {
   "cell_type": "code",
   "execution_count": 20,
   "metadata": {},
   "outputs": [
    {
     "data": {
      "text/plain": [
       "KMeans(init='random', max_iter=1, n_clusters=4, random_state=5)"
      ]
     },
     "execution_count": 20,
     "metadata": {},
     "output_type": "execute_result"
    }
   ],
   "source": [
    "# Your code here:\n",
    "kmeans=KMeans(n_clusters=4,init='random',random_state=5,max_iter=1)\n",
    "kmeans.fit(wine['data'])"
   ]
  },
  {
   "cell_type": "markdown",
   "metadata": {},
   "source": [
    "#### Print the cluster labels."
   ]
  },
  {
   "cell_type": "code",
   "execution_count": 21,
   "metadata": {},
   "outputs": [
    {
     "data": {
      "text/plain": [
       "array([3, 3, 3, 2, 0, 2, 3, 3, 3, 3, 2, 3, 2, 3, 2, 3, 3, 3, 2, 0, 0, 0,\n",
       "       3, 3, 0, 0, 3, 3, 0, 3, 3, 2, 0, 3, 3, 0, 0, 3, 3, 0, 0, 3, 3, 0,\n",
       "       0, 3, 3, 0, 3, 3, 3, 3, 3, 2, 3, 3, 0, 3, 3, 1, 0, 1, 1, 1, 1, 0,\n",
       "       1, 1, 0, 0, 0, 1, 1, 0, 0, 1, 1, 1, 0, 1, 1, 0, 1, 1, 1, 1, 1, 1,\n",
       "       0, 1, 1, 1, 1, 1, 1, 0, 1, 1, 1, 1, 0, 1, 1, 1, 1, 1, 1, 1, 1, 0,\n",
       "       1, 1, 1, 1, 1, 1, 1, 1, 1, 1, 1, 1, 1, 1, 1, 1, 1, 1, 1, 1, 1, 1,\n",
       "       1, 1, 1, 0, 0, 1, 1, 1, 1, 0, 1, 1, 0, 0, 1, 1, 1, 1, 1, 1, 1, 1,\n",
       "       1, 0, 1, 0, 1, 1, 1, 0, 1, 1, 1, 1, 0, 0, 0, 1, 1, 1, 1, 0, 0, 0,\n",
       "       0, 1])"
      ]
     },
     "execution_count": 21,
     "metadata": {},
     "output_type": "execute_result"
    }
   ],
   "source": [
    "# Your code here:\n",
    "kmeans.labels_"
   ]
  },
  {
   "cell_type": "markdown",
   "metadata": {},
   "source": [
    "#### Compute the size of each cluster. This can be done by counting the number of occurrences of each unique label in the list above.\n",
    "\n",
    "Which is the largest cluster of the 4?"
   ]
  },
  {
   "cell_type": "code",
   "execution_count": 22,
   "metadata": {},
   "outputs": [],
   "source": [
    "# Your code here:\n",
    "from collections import Counter"
   ]
  },
  {
   "cell_type": "code",
   "execution_count": 23,
   "metadata": {},
   "outputs": [
    {
     "data": {
      "text/plain": [
       "Counter({3: 35, 2: 8, 0: 44, 1: 91})"
      ]
     },
     "execution_count": 23,
     "metadata": {},
     "output_type": "execute_result"
    }
   ],
   "source": [
    "# Your answer here:\n",
    "Counter(kmeans.labels_)"
   ]
  },
  {
   "cell_type": "markdown",
   "metadata": {},
   "source": [
    "#### Inspect the shape of `wine['data']`"
   ]
  },
  {
   "cell_type": "code",
   "execution_count": 24,
   "metadata": {},
   "outputs": [
    {
     "data": {
      "text/plain": [
       "(178, 13)"
      ]
     },
     "execution_count": 24,
     "metadata": {},
     "output_type": "execute_result"
    }
   ],
   "source": [
    "# Your code here:\n",
    "wine['data'].shape"
   ]
  },
  {
   "cell_type": "markdown",
   "metadata": {},
   "source": [
    "#### Inspect the first 5 records in `wine['data']`"
   ]
  },
  {
   "cell_type": "code",
   "execution_count": 26,
   "metadata": {},
   "outputs": [
    {
     "data": {
      "text/plain": [
       "array([[1.423e+01, 1.710e+00, 2.430e+00, 1.560e+01, 1.270e+02, 2.800e+00,\n",
       "        3.060e+00, 2.800e-01, 2.290e+00, 5.640e+00, 1.040e+00, 3.920e+00,\n",
       "        1.065e+03],\n",
       "       [1.320e+01, 1.780e+00, 2.140e+00, 1.120e+01, 1.000e+02, 2.650e+00,\n",
       "        2.760e+00, 2.600e-01, 1.280e+00, 4.380e+00, 1.050e+00, 3.400e+00,\n",
       "        1.050e+03],\n",
       "       [1.316e+01, 2.360e+00, 2.670e+00, 1.860e+01, 1.010e+02, 2.800e+00,\n",
       "        3.240e+00, 3.000e-01, 2.810e+00, 5.680e+00, 1.030e+00, 3.170e+00,\n",
       "        1.185e+03],\n",
       "       [1.437e+01, 1.950e+00, 2.500e+00, 1.680e+01, 1.130e+02, 3.850e+00,\n",
       "        3.490e+00, 2.400e-01, 2.180e+00, 7.800e+00, 8.600e-01, 3.450e+00,\n",
       "        1.480e+03],\n",
       "       [1.324e+01, 2.590e+00, 2.870e+00, 2.100e+01, 1.180e+02, 2.800e+00,\n",
       "        2.690e+00, 3.900e-01, 1.820e+00, 4.320e+00, 1.040e+00, 2.930e+00,\n",
       "        7.350e+02]])"
      ]
     },
     "execution_count": 26,
     "metadata": {},
     "output_type": "execute_result"
    }
   ],
   "source": [
    "# Your code here:\n",
    "wine['data'][0:5]"
   ]
  },
  {
   "cell_type": "markdown",
   "metadata": {},
   "source": [
    "You now know the data object is a 2-dimensional array in which there are 178 rows and 13 columns. Each row is a data record and each column is a feature.\n",
    "\n",
    "#### What is the average ash content for each cluster? \n",
    "\n",
    "*Hints:* \n",
    "\n",
    "* *Ash* is the 3rd column.\n",
    "\n",
    "* The data object is not a Pandas dataframe so you can't apply `pandas.DataFrame.groupby`. Instead, you can use `np.average`."
   ]
  },
  {
   "cell_type": "code",
   "execution_count": 27,
   "metadata": {},
   "outputs": [
    {
     "data": {
      "text/plain": [
       "[(0, 2.399772727272728),\n",
       " (1, 2.318681318681319),\n",
       " (2, 2.445),\n",
       " (3, 2.431142857142857)]"
      ]
     },
     "execution_count": 27,
     "metadata": {},
     "output_type": "execute_result"
    }
   ],
   "source": [
    "# Your code here:\n",
    "[(i,np.average(wine['data'][kmeans.labels_==i,2])) for i in range(4)]"
   ]
  },
  {
   "cell_type": "markdown",
   "metadata": {},
   "source": [
    "# Challenge 3 - Load and Explore an External Dataset\n",
    "\n",
    "We will now load an external dataset using Pandas and use scikit learn to explore the data. In this portion of the lab, we will use a [patient dataset from Kaggle](https://www.kaggle.com/miles99/patient-admission-dataset-for-learning-data-mining). "
   ]
  },
  {
   "cell_type": "code",
   "execution_count": 28,
   "metadata": {},
   "outputs": [],
   "source": [
    "patients = pd.read_csv('../patient-admission-dataset-for-learning-data-mining.csv')"
   ]
  },
  {
   "cell_type": "markdown",
   "metadata": {},
   "source": [
    "In the next cell, print the first five rows of the data using the `head()` function."
   ]
  },
  {
   "cell_type": "code",
   "execution_count": 29,
   "metadata": {},
   "outputs": [
    {
     "data": {
      "text/html": [
       "<div>\n",
       "<style scoped>\n",
       "    .dataframe tbody tr th:only-of-type {\n",
       "        vertical-align: middle;\n",
       "    }\n",
       "\n",
       "    .dataframe tbody tr th {\n",
       "        vertical-align: top;\n",
       "    }\n",
       "\n",
       "    .dataframe thead th {\n",
       "        text-align: right;\n",
       "    }\n",
       "</style>\n",
       "<table border=\"1\" class=\"dataframe\">\n",
       "  <thead>\n",
       "    <tr style=\"text-align: right;\">\n",
       "      <th></th>\n",
       "      <th>id</th>\n",
       "      <th>patient_name</th>\n",
       "      <th>patient_email</th>\n",
       "      <th>doctor_phone</th>\n",
       "      <th>patient_gender</th>\n",
       "      <th>patient_dob</th>\n",
       "      <th>patient_diabetic</th>\n",
       "      <th>patient_allergic</th>\n",
       "      <th>patient_weight_kg</th>\n",
       "      <th>patient_height_sm</th>\n",
       "      <th>patient_nhs_number</th>\n",
       "      <th>doctor_name</th>\n",
       "      <th>appointment_date</th>\n",
       "      <th>patient_show</th>\n",
       "      <th>is_regular_visit</th>\n",
       "      <th>prescribed_medicines</th>\n",
       "      <th>diagnosis</th>\n",
       "    </tr>\n",
       "  </thead>\n",
       "  <tbody>\n",
       "    <tr>\n",
       "      <th>0</th>\n",
       "      <td>1</td>\n",
       "      <td>Celestyna Dillimore</td>\n",
       "      <td>cdillimore0@dion.ne.jp</td>\n",
       "      <td>674-914-1212</td>\n",
       "      <td>Female</td>\n",
       "      <td>10/18/2018</td>\n",
       "      <td>False</td>\n",
       "      <td>True</td>\n",
       "      <td>59</td>\n",
       "      <td>176</td>\n",
       "      <td>8.200152e+09</td>\n",
       "      <td>Sarena Waliszek</td>\n",
       "      <td>5/1/2018</td>\n",
       "      <td>True</td>\n",
       "      <td>True</td>\n",
       "      <td>triamcinolone acetonide</td>\n",
       "      <td>I669</td>\n",
       "    </tr>\n",
       "    <tr>\n",
       "      <th>1</th>\n",
       "      <td>2</td>\n",
       "      <td>Meta Michieli</td>\n",
       "      <td>mmichieli1@loc.gov</td>\n",
       "      <td>172-580-3586</td>\n",
       "      <td>Female</td>\n",
       "      <td>2/8/2018</td>\n",
       "      <td>False</td>\n",
       "      <td>True</td>\n",
       "      <td>77</td>\n",
       "      <td>186</td>\n",
       "      <td>NaN</td>\n",
       "      <td>Farris Robinet</td>\n",
       "      <td>12/7/2017</td>\n",
       "      <td>True</td>\n",
       "      <td>True</td>\n",
       "      <td>NaN</td>\n",
       "      <td>NaN</td>\n",
       "    </tr>\n",
       "    <tr>\n",
       "      <th>2</th>\n",
       "      <td>3</td>\n",
       "      <td>Cordie Sancto</td>\n",
       "      <td>csancto2@cafepress.com</td>\n",
       "      <td>794-222-5085</td>\n",
       "      <td>Female</td>\n",
       "      <td>10/9/2018</td>\n",
       "      <td>True</td>\n",
       "      <td>True</td>\n",
       "      <td>90</td>\n",
       "      <td>177</td>\n",
       "      <td>6.145594e+09</td>\n",
       "      <td>Kaspar Spitaro</td>\n",
       "      <td>10/5/2018</td>\n",
       "      <td>False</td>\n",
       "      <td>False</td>\n",
       "      <td>NaN</td>\n",
       "      <td>NaN</td>\n",
       "    </tr>\n",
       "    <tr>\n",
       "      <th>3</th>\n",
       "      <td>4</td>\n",
       "      <td>Josh De Ambrosis</td>\n",
       "      <td>jde3@amazon.co.jp</td>\n",
       "      <td>856-540-5195</td>\n",
       "      <td>Male</td>\n",
       "      <td>9/10/2018</td>\n",
       "      <td>True</td>\n",
       "      <td>True</td>\n",
       "      <td>70</td>\n",
       "      <td>150</td>\n",
       "      <td>NaN</td>\n",
       "      <td>Rafferty Fowls</td>\n",
       "      <td>10/21/2018</td>\n",
       "      <td>False</td>\n",
       "      <td>True</td>\n",
       "      <td>NaN</td>\n",
       "      <td>NaN</td>\n",
       "    </tr>\n",
       "    <tr>\n",
       "      <th>4</th>\n",
       "      <td>5</td>\n",
       "      <td>Delinda Alfonsini</td>\n",
       "      <td>dalfonsini4@opensource.org</td>\n",
       "      <td>938-978-1131</td>\n",
       "      <td>Female</td>\n",
       "      <td>2/26/2018</td>\n",
       "      <td>False</td>\n",
       "      <td>True</td>\n",
       "      <td>82</td>\n",
       "      <td>140</td>\n",
       "      <td>4.804758e+08</td>\n",
       "      <td>Glenna MacNeachtain</td>\n",
       "      <td>11/15/2018</td>\n",
       "      <td>False</td>\n",
       "      <td>False</td>\n",
       "      <td>NaN</td>\n",
       "      <td>NaN</td>\n",
       "    </tr>\n",
       "  </tbody>\n",
       "</table>\n",
       "</div>"
      ],
      "text/plain": [
       "   id         patient_name               patient_email  doctor_phone  \\\n",
       "0   1  Celestyna Dillimore      cdillimore0@dion.ne.jp  674-914-1212   \n",
       "1   2        Meta Michieli          mmichieli1@loc.gov  172-580-3586   \n",
       "2   3        Cordie Sancto      csancto2@cafepress.com  794-222-5085   \n",
       "3   4     Josh De Ambrosis           jde3@amazon.co.jp  856-540-5195   \n",
       "4   5    Delinda Alfonsini  dalfonsini4@opensource.org  938-978-1131   \n",
       "\n",
       "  patient_gender patient_dob  patient_diabetic  patient_allergic  \\\n",
       "0         Female  10/18/2018             False              True   \n",
       "1         Female    2/8/2018             False              True   \n",
       "2         Female   10/9/2018              True              True   \n",
       "3           Male   9/10/2018              True              True   \n",
       "4         Female   2/26/2018             False              True   \n",
       "\n",
       "   patient_weight_kg  patient_height_sm  patient_nhs_number  \\\n",
       "0                 59                176        8.200152e+09   \n",
       "1                 77                186                 NaN   \n",
       "2                 90                177        6.145594e+09   \n",
       "3                 70                150                 NaN   \n",
       "4                 82                140        4.804758e+08   \n",
       "\n",
       "           doctor_name appointment_date  patient_show  is_regular_visit  \\\n",
       "0      Sarena Waliszek         5/1/2018          True              True   \n",
       "1       Farris Robinet        12/7/2017          True              True   \n",
       "2       Kaspar Spitaro        10/5/2018         False             False   \n",
       "3       Rafferty Fowls       10/21/2018         False              True   \n",
       "4  Glenna MacNeachtain       11/15/2018         False             False   \n",
       "\n",
       "      prescribed_medicines diagnosis  \n",
       "0  triamcinolone acetonide      I669  \n",
       "1                      NaN       NaN  \n",
       "2                      NaN       NaN  \n",
       "3                      NaN       NaN  \n",
       "4                      NaN       NaN  "
      ]
     },
     "execution_count": 29,
     "metadata": {},
     "output_type": "execute_result"
    }
   ],
   "source": [
    "# Your code here:\n",
    "patients.head()"
   ]
  },
  {
   "cell_type": "markdown",
   "metadata": {},
   "source": [
    "Next, print the column types and check which columns have been misclassified by pandas."
   ]
  },
  {
   "cell_type": "code",
   "execution_count": 31,
   "metadata": {},
   "outputs": [
    {
     "name": "stdout",
     "output_type": "stream",
     "text": [
      "<class 'pandas.core.frame.DataFrame'>\n",
      "RangeIndex: 1000 entries, 0 to 999\n",
      "Data columns (total 17 columns):\n",
      " #   Column                Non-Null Count  Dtype  \n",
      "---  ------                --------------  -----  \n",
      " 0   id                    1000 non-null   int64  \n",
      " 1   patient_name          1000 non-null   object \n",
      " 2   patient_email         1000 non-null   object \n",
      " 3   doctor_phone          1000 non-null   object \n",
      " 4   patient_gender        1000 non-null   object \n",
      " 5   patient_dob           1000 non-null   object \n",
      " 6   patient_diabetic      1000 non-null   bool   \n",
      " 7   patient_allergic      1000 non-null   bool   \n",
      " 8   patient_weight_kg     1000 non-null   int64  \n",
      " 9   patient_height_sm     1000 non-null   int64  \n",
      " 10  patient_nhs_number    796 non-null    float64\n",
      " 11  doctor_name           942 non-null    object \n",
      " 12  appointment_date      1000 non-null   object \n",
      " 13  patient_show          1000 non-null   bool   \n",
      " 14  is_regular_visit      1000 non-null   bool   \n",
      " 15  prescribed_medicines  512 non-null    object \n",
      " 16  diagnosis             512 non-null    object \n",
      "dtypes: bool(4), float64(1), int64(3), object(9)\n",
      "memory usage: 105.6+ KB\n"
     ]
    }
   ],
   "source": [
    "# Your code here:\n",
    "patients.info()"
   ]
  },
  {
   "cell_type": "markdown",
   "metadata": {},
   "source": [
    "#### We can see that none of the date columns have been correctly classified. Also, some columns contain qualitative data that can be dropped.\n",
    "\n",
    "First, transform the `patient_dob` and `appointment_date` columns to datetime using the `pd.to_datetime` function."
   ]
  },
  {
   "cell_type": "code",
   "execution_count": 32,
   "metadata": {},
   "outputs": [],
   "source": [
    "# Your code here:\n",
    "patients['patient_dob'] = pd.to_datetime(patients['patient_dob'])\n",
    "patients['appointment_date'] = pd.to_datetime(patients['appointment_date'])"
   ]
  },
  {
   "cell_type": "markdown",
   "metadata": {},
   "source": [
    "Next, drop the `id`, `patient_name`, `patient_email`, `patient_nhs_number`, and `doctor_phone` columns. These are not quantitative columns and will not contribute to our analysis."
   ]
  },
  {
   "cell_type": "code",
   "execution_count": 33,
   "metadata": {},
   "outputs": [],
   "source": [
    "# Your code here:\n",
    "patients.drop(['id','patient_name','patient_email','patient_nhs_number','doctor_phone'],axis=1,inplace=True)"
   ]
  },
  {
   "cell_type": "markdown",
   "metadata": {},
   "source": [
    "Now we work on the missing data. Most ML algorithms will not perform as intended if there are missing data.\n",
    "\n",
    "In the cell below, count how many rows contain missing data in each column. You should see three columns contain missing data:\n",
    "\n",
    "* `doctor_name`: 58 missing data\n",
    "* `prescribed_medicines`: 488 missing data\n",
    "* `diagnosis`: 488 missing data"
   ]
  },
  {
   "cell_type": "code",
   "execution_count": 34,
   "metadata": {},
   "outputs": [
    {
     "data": {
      "text/plain": [
       "prescribed_medicines    488\n",
       "diagnosis               488\n",
       "doctor_name              58\n",
       "patient_gender            0\n",
       "patient_dob               0\n",
       "patient_diabetic          0\n",
       "patient_allergic          0\n",
       "patient_weight_kg         0\n",
       "patient_height_sm         0\n",
       "appointment_date          0\n",
       "patient_show              0\n",
       "is_regular_visit          0\n",
       "dtype: int64"
      ]
     },
     "execution_count": 34,
     "metadata": {},
     "output_type": "execute_result"
    }
   ],
   "source": [
    "# Your code here:\n",
    "patients.isnull().sum().sort_values(ascending=False)"
   ]
  },
  {
   "cell_type": "markdown",
   "metadata": {},
   "source": [
    "The main issues are found in the `prescribed_medicines` and `diagnosis` columns. Can we simply drop these rows?\n",
    "\n",
    "The answer is not yet. Because when there are missing data in these columns, it doesn't mean the data records are broken. Instead, it means no medication was prescribed and no diagnosis was recorded. Therefore, once we fill in the missing data these columns will be fine. But we'll revisit these columns and decide whether we will eventually drop them when we look at how many unique values are there in these categorical columns.  \n",
    "\n",
    "For the `prescribed_medicines` column, fill the missing values with the value `no prescription`. For the `diagnosis` column, fill the missing values with `no diagnosis`.\n",
    "\n",
    "*Hint: Use [`pandas.DataFrame.fillna`](https://pandas.pydata.org/pandas-docs/stable/generated/pandas.DataFrame.fillna.html).*"
   ]
  },
  {
   "cell_type": "code",
   "execution_count": 35,
   "metadata": {},
   "outputs": [],
   "source": [
    "# Your code here:\n",
    "patients['prescribed_medicines'].fillna('no precription',inplace=True)\n",
    "patients['diagnosis'].fillna('no diagnosis',inplace=True)"
   ]
  },
  {
   "cell_type": "markdown",
   "metadata": {},
   "source": [
    "How about `doctor_name`? Since a doctor visit without a doctor name might not be meaningful, we will drop these rows."
   ]
  },
  {
   "cell_type": "code",
   "execution_count": 36,
   "metadata": {},
   "outputs": [],
   "source": [
    "# Your code here:\n",
    "patients.dropna(inplace=True)"
   ]
  },
  {
   "cell_type": "markdown",
   "metadata": {},
   "source": [
    "#### Another step in preprocessing that can be performed by scikit-learn is label encoding. \n",
    "\n",
    "We have 4 columns that are of `bool` type. We would like to convert them to an integer column containing either zero or one. We can do this using [scikit-learn's label encoder](https://scikit-learn.org/stable/modules/generated/sklearn.preprocessing.LabelEncoder.html).\n",
    "\n",
    "In the cell below, import the label encoder and encode the 4 boolean columns (*patient_diabetic*, *patient_allergic*, *patient_show*, *is_regular_visit*) with `0` and `1`. "
   ]
  },
  {
   "cell_type": "code",
   "execution_count": 37,
   "metadata": {},
   "outputs": [],
   "source": [
    "# Your code here:\n",
    "from sklearn.preprocessing import LabelEncoder"
   ]
  },
  {
   "cell_type": "markdown",
   "metadata": {},
   "source": [
    "Print the data dtypes to confirm those four `bool` columns are converted to `int64`."
   ]
  },
  {
   "cell_type": "code",
   "execution_count": 38,
   "metadata": {},
   "outputs": [
    {
     "name": "stdout",
     "output_type": "stream",
     "text": [
      "<class 'pandas.core.frame.DataFrame'>\n",
      "Int64Index: 942 entries, 0 to 999\n",
      "Data columns (total 12 columns):\n",
      " #   Column                Non-Null Count  Dtype         \n",
      "---  ------                --------------  -----         \n",
      " 0   patient_gender        942 non-null    object        \n",
      " 1   patient_dob           942 non-null    datetime64[ns]\n",
      " 2   patient_diabetic      942 non-null    bool          \n",
      " 3   patient_allergic      942 non-null    bool          \n",
      " 4   patient_weight_kg     942 non-null    int64         \n",
      " 5   patient_height_sm     942 non-null    int64         \n",
      " 6   doctor_name           942 non-null    object        \n",
      " 7   appointment_date      942 non-null    datetime64[ns]\n",
      " 8   patient_show          942 non-null    bool          \n",
      " 9   is_regular_visit      942 non-null    bool          \n",
      " 10  prescribed_medicines  942 non-null    object        \n",
      " 11  diagnosis             942 non-null    object        \n",
      "dtypes: bool(4), datetime64[ns](2), int64(2), object(4)\n",
      "memory usage: 69.9+ KB\n"
     ]
    }
   ],
   "source": [
    "# Your code here:\n",
    "patients.info()"
   ]
  },
  {
   "cell_type": "markdown",
   "metadata": {},
   "source": [
    "#### The last step is to handle the `object` data.\n",
    "\n",
    "There are 4 `object` columns now: `patient_gender`, `doctor_name`, `prescribed_medicines`, and `diagnosis`. The gender columns\n",
    "\n",
    "In the next cell, check the unique values of each of the `object` columns using `value_counts()`."
   ]
  },
  {
   "cell_type": "code",
   "execution_count": 45,
   "metadata": {
    "scrolled": true
   },
   "outputs": [
    {
     "name": "stdout",
     "output_type": "stream",
     "text": [
      "['Female' 'Male']\n",
      "------------------------------------------------------\n",
      "['Sarena Waliszek' 'Farris Robinet' 'Kaspar Spitaro' 'Rafferty Fowls'\n",
      " 'Glenna MacNeachtain' 'Cissy Markey' 'Ryley Swallow' 'Wyn Grassett'\n",
      " 'Dulce McKerley' 'Gabie Brafield' 'Oralie Swaffer' 'Humfried Cartmel'\n",
      " 'Madelina Scurrell' 'Carly SperaJillie Katt' 'Jilly McGrill'\n",
      " 'Hermina Domeny' 'Flossy Canlin' 'Nerte Elmer' 'Rouvin McKinstry']\n",
      "------------------------------------------------------\n",
      "['triamcinolone acetonide' 'no precription'\n",
      " 'octinoxate, avobenzone, and octocrylene'\n",
      " 'Glipizide and Metformin Hydrochloride' 'Benazepril Hydrochloride'\n",
      " 'WITCH HAZEL' 'Terbinafine Hydrochloride' 'Tretinoin' 'Magesium Citrate'\n",
      " 'Psyllium Husks' 'aluminum hydroxide' 'Estradiol'\n",
      " 'Propranolol Hydrochloride' 'Avobenzone, Octinoxate, Octisalate'\n",
      " 'NEOMYCIN SULFATE' 'Sulfamethoxazole and Trimethoprim'\n",
      " 'Helium Oxygen Mixture' 'NITROGEN'\n",
      " 'acetaminophen, dextromethorphan Hbr, Phenylephrine HCl'\n",
      " 'Diphenhydramine Hydrochloride and Zinc Acetate'\n",
      " 'Human chorionic gonadotropin (hCG),'\n",
      " 'Arsenicum album, Calcarea carbonica, Ignatia amara Kali carbonicum, Lachesis mutus, Natrum muriaticum,'\n",
      " 'ABILIFY' 'ALUMINUM SULFATE' 'Natural Medicine'\n",
      " 'amoxicillin and clavulanate potassium' 'Ammonium Lactate' 'Risperidone'\n",
      " 'fomepizole' 'bisoprolol fumarate and hydrochlorothiazide'\n",
      " 'DOCUSATE SODIUM' 'dimethicone, octinoxate, octisalate, oxybenzone'\n",
      " 'codeine phosphate and guaifenesin' 'ALCOHOL' 'Pineapple'\n",
      " 'dextromethorphan polistirex'\n",
      " 'ACONITUM NAPELLUS, ARNICA MONTANA, LEDUM PALUSTRE TWIG, MAGNESIUM PHOSPHATE, DIBASIC TRIHYDRATE, TOXICODENDRON PUBESCENS LEAF, and VISCUM ALBUM FRUITING TOP'\n",
      " 'Acetaminophen, Dextromethorphan Hydrobromide, Phenylephrine Hydrochloride'\n",
      " 'Oxcarbazepine' 'OCTINOXATE and TITANIUM DIOXIDE' 'Ibuprofen'\n",
      " 'Metoclopramide Hydrochloride'\n",
      " 'OCTINOXATE, OCTISALATE, ZINC OXIDE, OXYBENZONE' 'Oxygen'\n",
      " 'Avobenzone, Octinoxate, Octisalate, Oxybenzone' 'Salt Cedar'\n",
      " 'Pyrithione Zinc' 'TRAMADOL HYDROCHLORIDE'\n",
      " 'Levocetirizine Dihydrochloride' 'SODIUM FLUORIDE' 'Triclosan'\n",
      " 'Pyrithione zinc' 'Citalopram' 'Metoprolol Tartrate'\n",
      " 'propafenone hydrochloride' 'Silicea Belladonna'\n",
      " 'Valacyclovir hydrochloride' 'Protriptyline Hydrochloride'\n",
      " 'Dexamethasone' 'Ketoconazole' 'Erythromycin' 'ESCITALOPRAM OXALATE'\n",
      " 'alcohol' 'AVOBENZONE, OCTOCRYLENE, OXYBENZONE' 'moexipril hydrochloride'\n",
      " 'Docusate sodium and Sennosides' 'Oats, Common, Cultivated Avena sativa'\n",
      " 'Amlodipine Besylate'\n",
      " 'HOMOSALATE, OXYBENZONE, OCTISALATE, AVOBENZONE, OCTOCRYLENE'\n",
      " 'Metformin Hydrochloride' 'Gabapentin' 'OCTINOXATE' 'Mountain Cedar'\n",
      " 'Artichoke' 'Droperidol'\n",
      " 'Arnica montana, Caladium seguinum, Carduus marianus, Damiana, Galium aparine, Glandula suprarenalis suis, Hepar suis, Korean ginseng, Lactuca virosa,'\n",
      " 'Valsartan and Hydrochlorothiazide' 'Diphenhydramine Hydrochloride'\n",
      " 'Ranitidine Hydrochloride'\n",
      " 'Chelidonium Majus, Hepar Suis, Cholesterinum, Lycopodium Clavatum, Tarentula Hispana, Arsenicum Album, Belladonna'\n",
      " 'Omeprazole' 'morphine sulfate'\n",
      " 'OCTINOXATE, TITANIUM DIOXIDE, and ZINC OXIDE'\n",
      " 'Titanium Dioxide, Zinc Oxide, and Octinoxate' 'albuterol sulfate'\n",
      " 'Octinoxate and Oxybenzone' 'vilazodone hydrochloride'\n",
      " 'benztropine mesylate' 'Ketorolac Tromethamine' 'Titanium dioxide'\n",
      " 'Camphor Menthol Methyl Salicylate' 'clonazepam' 'Mirtazapine'\n",
      " 'epinephrine' 'Menthol' 'False Ragweed Bur' 'Zinc Oxide'\n",
      " 'AVOBENZONE, OCTISALATE, OCTOCRYLENE' 'ALTERNARIA TENUIS'\n",
      " 'Dextromethophan Hydrobromide, Chlorpheniramine Maleate, Phenylephrine Hydrochloride'\n",
      " 'Nadolol' 'fluvastatin' 'VERAPAMIL HYDROCHLORIDE' 'Spasms Weakness'\n",
      " 'CALENDULA OFFICINALIS FLOWERING TOP' 'Titanium Dioxide, Zinc Oxide'\n",
      " 'Treatment Set TS350393' 'Naproxen Sodium' 'Cucumber'\n",
      " 'Antihemophilic Factor (Recombinant)' 'fentanyl' 'Acetaminophen'\n",
      " 'Carvedilol' 'synthetic conjugated estrogens, B'\n",
      " 'Lidocaine Hydrochloride-Menthol' 'Green Pea English'\n",
      " 'amlodipine besylate and atorvastatin calcium'\n",
      " 'Aluminum Zirconium Trichlorohydrex Gly' 'BENZETHONIUM CHLORIDE'\n",
      " 'Oxycodone and Acetaminophen' 'TITANIUM DIOXIDE' 'LYTTA VESICATORIA'\n",
      " 'TRICHOPHYTON MENTAGROPHYTES' 'Venlafaxine Hydrochloride'\n",
      " 'Pectin and Echinacea Purpurea'\n",
      " 'Avobenzone, Octinoxate, Octisalate, Octocrylene' 'divalproex sodium'\n",
      " 'alnus incana subsp. rugosa pollen' 'ATRACTYLODES JAPONICA ROOT'\n",
      " 'Homosalate Oxybenzone Octocrylene Octisalate Avobenzone'\n",
      " 'Salicylic Acid' 'Hydrocortisone' 'Hog Epithelium'\n",
      " 'TRIHEXYPHENIDYL HYDROCHLORIDE' 'Senna and Docusate Sodium' 'Privet'\n",
      " 'ACETAMINOPHEN and PYRILAMINE MALEATE'\n",
      " 'TRAMETES VERSICOLOR FRUITING BODY' 'Warfarin Sodium' 'Benzoyl Peroxide'\n",
      " 'Enoxaparin Sodium' 'Guaifenesin and Dextromethorphan Hydrobromide'\n",
      " 'acetaminophen' 'Duloxetine' 'Medroxyprogesterone Acetate'\n",
      " 'tramadol hydrochloride' 'POLYVINYL ALCOHOL'\n",
      " 'bacitracin zinc, neomycin, polymyxin B' 'Nicotine Polacrilex'\n",
      " 'sildenafil citrate' 'Lansoprazole' 'Pantoprazole Sodium'\n",
      " 'GRANISETRON HYDROCHLORIDE'\n",
      " 'Agnus 30c, Aurum Nat Mur. 30c, Aletris 30c, Dioscorea 30c' 'mupirocin'\n",
      " 'FERRIC OXIDE RED' 'Purixan' 'KAPOK' 'Granisetron Hydrochloride'\n",
      " 'Eastern Cottonwood' 'Aurum Lavender Rose'\n",
      " 'Uricum acidum, Benzoicum acidum, Berber. vulg., Bryonia, Cantharis, Carduus benedictus, Ceanothus, Chelidonium majus, Chionanthus virginica, Cinchona, Dioscorea, Dolichos, Iris versicolor, Juniperus com., Nux vom., Ptelea, Taraxacum, Carduus mar., Cynara scolymus, Solidago'\n",
      " 'Neurospora intermedia' 'Dimethicone' 'phytonadione'\n",
      " 'DEXTROMETHORPHAN HYDROBROMIDE, GUAIFENESIN, PHENYLEPHRINE HYDROCHLORIDE'\n",
      " 'Octinoxate and Titanium Dioxide' 'BISMUTH SUBSALICYLATE'\n",
      " 'Methyl salicylate, Menthol, Capsaicin' 'ketoconazole' 'CLOTRIMAZOLE'\n",
      " 'tobramycin and dexamethasone' 'Sodium Fluoride' 'mesna' 'TRICLOSAN'\n",
      " 'norethindrone acetate and ethinyl estradiol and ferrous fumarate'\n",
      " 'ACETAMINOPHEN, DOXYLAMINE SUCCINATE HCL, DEXTROMETHORPHAN HYDROBROMIDE'\n",
      " 'GLYCERIN' 'isopropyl alcohol'\n",
      " 'Acetaminophen, Dextromethorphan HBr, Guaifenesin, Phenylephrine HCl'\n",
      " 'montelukast sodium'\n",
      " 'ACONITUM NAPELLUS and BRYONIA ALBA ROOT and PHOSPHORUS'\n",
      " 'Oxymorphone Hydrochloride' 'BENZALKONIUM CHLORIDE'\n",
      " 'SERTRALINE HYDROCHLORIDE' 'Birch Black'\n",
      " 'Acetaminophen, Dextromethorphan HBr, Doxylamine succinate'\n",
      " 'OXYBENZONE, AVOBENZONE, OCTOCRYLENE' 'OXYGEN'\n",
      " 'SALICYLIC ACID, TITANIUM DIOXIDE, ZINC OXIDE' 'providone iodine'\n",
      " 'oxybutynin chloride' 'Strawberry' 'Fibrinogen Human Thrombin Human'\n",
      " 'avobenzone, homosalate, octisalate, octocrylene' 'Fluoxetine'\n",
      " 'Chlorpheniramine Maleate' 'Aluminum Zirconium Tetrachlorohydrex GLY'\n",
      " 'Amoxicillin' 'romidepsin' 'HYDROQUINONE' 'OCTINOXATE and OXYBENZONE'\n",
      " 'Etodolac' 'Cefuroxime' 'cysteamine hydrochloride' 'MENTHOL'\n",
      " 'Octinoxate, Titanium Dioxide' 'doxepin hydrochloride'\n",
      " 'Potassium Chloride' 'Aurum 5' 'Metaxalone' 'HYDROCORTISONE'\n",
      " 'Triclocarban' 'diazepam' 'Ramipril'\n",
      " 'Acetaminophen, Guaifenesin, Phenylephrine HCl'\n",
      " 'Loperamide Hydrochloride' 'ACETAMINOPHEN'\n",
      " 'Levonorgestrel and Ethinyl Estradiol' 'Phenazopyridine Hydrochloride'\n",
      " 'House Dust' 'TOLNAFTATE'\n",
      " 'PSEUDOGNAPHALIUM OBTUSIFOLIUM, CAUSTICUM, COLCHICUM AUTUMNALE BULB, CITRULLUS COLOCYNTHIS FRUIT PULP, IRON, LITHIUM BENZOATE, TOXICODENDRON PUBESCENS LEAF and FILIPENDULA ULMARIA ROOT'\n",
      " 'benzocaine and glycerin' 'clocortolone pivalate'\n",
      " 'donepezil hydrochloride' 'fluvastatin sodium' 'Docetaxel'\n",
      " 'Dextromethorphan HBr, Guaifenesin' 'fentanyl citrate' 'Disulfiram'\n",
      " 'Potassium Iodide' 'Tetracycline Hydrochloride'\n",
      " 'Leucine, Phenylalanine, Lysine, Methionine, Isoleucine, Valine, Histidine, Threonine, Tryptophan, Alanine, Glycine, Arginine, Proline, Serine, Tyrosine, Dextrose'\n",
      " 'Bethanechol Chloride' 'Norethindrone and Ethinyl Estradiol Tablets'\n",
      " 'Sodium chloride'\n",
      " 'Polyethylene Glycol 3350, Sodium Sulfate Anhydrous, Sodium Bicarbonate, Sodium Chloride, Potassium Chloride'\n",
      " 'petrolatum' 'amoxicillin' 'ZINC OXIDE, OCTINOXATE, and OCTISALATE'\n",
      " 'Yellow Dock'\n",
      " 'Agnus castus, Aralia quinquefolia, Arnica montana, Damiana, Lactuca virosa, Natrum muriaticum, Onosmodium virginianum, Oophorinum, Phosphoricum acidum, Pituitarum posterium, Salix nigra, Sepia, Thuja occidentalis'\n",
      " 'MOMETASONE FUROATE' 'CEFTAZIDIME' 'Bismuth subsalicylate'\n",
      " 'MAGNESIUM HYDROXIDE' 'Hepatitis B Immune Globulin (Human)'\n",
      " 'Eprosartan Mesylate and Hydrochlorothiazide'\n",
      " 'levothyroxine sodium tablets' 'Captopril' 'Miconazole Nitrate'\n",
      " 'Levothyroxine Sodium' 'CETYLPYRIDINIUM CHLORIDE' 'Topiramate'\n",
      " 'peginterferon alfa-2b' 'LOSARTAN POTASSIUM AND HYDROCHLOROTHIAZIDE'\n",
      " 'Titanium Dioxide'\n",
      " 'famotidine, calcium carbonate and magnesium hydroxide'\n",
      " 'Aralia racemosa, Arsenicum album, Histaminum hydrochloricum, Nux vomica, Oleum animale, Phosphorus, Silicea, Sulphur'\n",
      " 'Diphenhydramine HCl' 'Water' 'Sweetgum'\n",
      " 'Lidocaine Hydrochloride and Hydrocortisone Acetate' 'Octinoxate'\n",
      " 'Pseudoephedrine Hydrochloride' 'MAGNESIUM CITRATE' 'Eucalyptol'\n",
      " 'Hydrocodone Bitartrate and Acetaminophen' 'LACTULOSE'\n",
      " 'VANCOMYCIN HYDROCHLORIDE' 'ERYTHROMYCIN STEARATE'\n",
      " 'Lidocaine Hydrochloride' 'Titanium dioxide and Zinc oxide'\n",
      " 'Benzalkonium Chloride' 'salicylic acid'\n",
      " 'Octinoxate and Titanium dioxide'\n",
      " 'CONJUGATED ESTROGENS and MEDROXYPROGESTERONE ACETATE' 'Aspirin'\n",
      " 'methylcellulose'\n",
      " 'Acetaminophen, Dextromethorphan Hydrobromide, Doxylamine Succinate'\n",
      " 'sodium fluoride' 'Lemon' 'Urea Cream with Moisturizing Cream'\n",
      " 'benzocaine' 'zinc acetate' 'POVIDONE-IODINE' 'Sodium Fluoride F-18'\n",
      " 'Bupropion Hydrochloride' 'cocoa butter, phenylephrine HCl'\n",
      " 'Isopropyl Alcohol' 'PETROLATUM' 'Simvastatin' 'Carelessweed'\n",
      " 'Aloe socotrina, Alumina, Apis mellifica' 'FENTANYL'\n",
      " 'valsartan and hydrochlorothiazide' 'Mupirocin' 'WATER' 'polidocanol'\n",
      " 'Butalbital and Acetaminophen Tablets' 'GINKGO BILOBA LEAF'\n",
      " 'hydroxocobalamin' 'avobenzone, homosalate, octisalate, oxybenzone'\n",
      " 'tapentadol hydrochloride' 'Aluminum Chlorohydrate' 'Rough Marsh Elder'\n",
      " 'Prazosin Hydrochloride' 'Fenofibric Acid' 'methimazole' 'Oat Grain'\n",
      " 'AVOBENZONE, OCTINOXATE,OCTISALATE' 'TITANIUM DIOXIDE, OCTINOXATE'\n",
      " 'ZINC OXIDE' 'sodium selenite' 'Trandolapril' 'DROSERA ROTUNDIFOLIA'\n",
      " 'Rhodotorula mucilaginosa' 'False Ragweed'\n",
      " 'Avobenzone, Homosalate, Octisalate, Octocrylene, and Oxybenzone'\n",
      " 'Heparin Sodium' 'Cypress Arizona' 'allopurinol'\n",
      " 'Asterias rubens, Bryonia, Conium maculatum, Galium aparine, Hoang-nan, Lachesis mutus, Nux vomica, Ova tosta, Sepia and Viscum album'\n",
      " 'Simethicone' 'Pyrazinamide' 'Losartan Potassium' 'Furosemide'\n",
      " 'ALUMINUM CHLOROHYDRATE' 'Hydrocortisone Acetate'\n",
      " 'OCTINOXATE, TITANIUM DIOXIDE, DIMETHICONE, ALUMINUM HYDROXIDE, STEARIC ACID, HYDROXYPROLINE,'\n",
      " 'Metoprolol succinate' 'Cefuroxime Axetil' 'Diltiazem Hydrochloride'\n",
      " 'Glyburide' 'Vancomycin Hydrochloride' 'Octisalate and Zinc Oxide'\n",
      " 'Aluminum Zirconium Pentachlorohydrex Gly'\n",
      " 'OCTINOXATE, TITANIUM DIOXIDE, OXYBENZONE'\n",
      " 'Boricum Gluconicum, Calcarea Gluconica, Chromium Gluconicum, Cobaltum Gluconicum, Cuprum Gluconicum'\n",
      " 'lidocaine hydrochloride' 'Acetaminophen, Aspirin, Caffeine'\n",
      " 'SOYBEAN OIL' 'Doxazosin' 'Lisinopril and hydrochlorothiazide'\n",
      " 'estradiol acetate' 'Sertraline Hydrochloride'\n",
      " 'Zinc Oxide, Titanium Dioxide' 'Folic Acid' 'California Black Walnut'\n",
      " 'ATORVASTATIN CALCIUM' 'MIDODRINE HYDROCHLORIDE' 'levothyroxine sodium'\n",
      " 'metformin hydrochloride' 'Atorvastatin Calcium' 'acitretin' 'Apis Rhus'\n",
      " 'TITANIUM DIOXIDE and ZINC OXIDE' 'Para Grass Pollen'\n",
      " 'HYDROCODONE BITARTRATE AND IBUPROFEN' 'MYRRH GOLD'\n",
      " 'Calcium carbonate and Magnesium hydroxide'\n",
      " '.beta.-carotene, ascorbic acid, cholecalciferol, .alpha.-tocopherol acetate, dl-, thiamine mononitrate, riboflavin, niacinamide, pyridoxine hydrochloride, folic acid, cyanocobalamin, calcium carbonate, ferrous fumarate, potassium iodide and zinc oxide'\n",
      " 'Cefprozil' 'Enalapril Maleate'\n",
      " 'octinoxate, octisalate, octocrylene, oxybenzone' 'Hormodendrum'\n",
      " 'Acetaminophen, Diphenhydramine HCl' 'Antiseptic handwash'\n",
      " 'Aesculus hippocastanum, Arnica montana, Berberis vulgaris, Carbo vegetabilis, Echinacea angustifolia, Hamamelis virginiana, Hydrofluoricum acidum, Lycopodium clavatum, Secale cornutum, Sulfur'\n",
      " 'bethanechol chloride' 'Glycerin' 'Mango Blossom'\n",
      " 'Hydrocodone Bitartrate and Ibuprofen'\n",
      " 'OCTINOXATE, OXYBENZONE, TITANIUM DIOXIDE' 'Duloxetine hydrochloride'\n",
      " 'clobazam' 'Hydrogen Peroxide' 'AMOXICILLIN'\n",
      " 'Norethindrone and Ethinyl Estradiol' 'Cyclopentolate Hydrochloride'\n",
      " 'Promethazine Hydrochloride' 'Benzocaine'\n",
      " 'AVOBENZONE, OCTINOXATE, OCTISALATE, OCTOCRYLENE'\n",
      " 'MINERAL OIL,PETROLATUM,PHENYLEPHRINE'\n",
      " 'diphenhydramine citrate and ibuprofen' 'ezetimibe and simvastatin'\n",
      " 'Soft Cheat Brome' 'Desmopressin Acetate' 'ENALAPRIL MALEATE'\n",
      " 'atorvastatin calcium' 'Formaldehyde' 'nitroglycerin' 'IRON SUPPLEMENT'\n",
      " 'aluminum hydroxide, magnesium carbonate, sodium bicarbonate']\n",
      "------------------------------------------------------\n",
      "['I669' 'no diagnosis' 'S72309N' 'T508X6' 'S420' 'T8743' 'M80072A'\n",
      " 'T22342A' 'S06378S' 'T23269' 'Y37251D' 'S42491G' 'S58922' 'S89041'\n",
      " 'S72321R' 'E1340' 'B161' 'S52392D' 'W9431XA' 'S12551B' 'V722XXS'\n",
      " 'S82155H' 'P0734' 'S40811' 'S21049S' 'T2682XD' 'G4762' 'S91322S'\n",
      " 'T24701S' 'T2169' 'B352' 'T25021D' 'T8511' 'G328' 'I159' 'S72452A'\n",
      " 'T6192XD' 'Y383X2A' 'T444X6A' 'M2441' 'T501X5D' 'S353' 'W1692XD'\n",
      " 'S89299D' 'V4950XA' 'M0684' 'R4921' 'M7133' 'T311' 'O29013' 'S82114'\n",
      " 'H15012' 'C944' 'A669' 'M8916' 'V346XXS' 'M84573P' 'T81507S' 'S63232'\n",
      " 'M0570' 'T675XXS' 'S52331B' 'T84192S' 'M84453G' 'S46899' 'S52254G'\n",
      " 'M11849' 'T80218' 'M80071S' 'S25492D' 'S42016B' 'S72345C' 'S72443Q'\n",
      " 'G5783' 'H04211' 'S3510XD' 'R4184' 'G4011' 'I308' 'O26852' 'S85102A'\n",
      " 'S9086' 'S82134D' 'S34102' 'S60041D' 'O368920' 'M10372' 'T4271' 'M1A0320'\n",
      " 'M87252' 'S82265K' 'T401X1S' 'A369' 'S93333A' 'S42324A' 'S92491' 'H40041'\n",
      " 'S27432' 'H11012' 'M84334K' 'T8386XS' 'M80822K' 'S60522' 'V9101'\n",
      " 'T440X4A' 'S56403S' 'K754' 'O26812' 'I850' 'V9605XD' 'M84631A' 'S0041'\n",
      " 'S72354P' 'H31329' 'M84569D' 'H04313' 'M2434' 'S82022H' 'Y248' 'V00811A'\n",
      " 'I69261' 'S01112' 'S01102A' 'M60162' 'V97811S' 'S36202D' 'F199' 'C130'\n",
      " 'V877' 'B972' 'M1A10X0' 'C9251' 'O360114' 'S62122D' 'S63266' 'S60212'\n",
      " 'S63295' 'T3292' 'O280' 'S53449' 'S82422J' 'S37531A' 'S89221' 'M2637'\n",
      " 'S98321' 'L971' 'S055' 'T550X2' 'J960' 'O693' 'V559XXD' 'S49039P'\n",
      " 'S31101D' 'M24474' 'H0243' 'S65011' 'S82254B' 'S92334G' 'S92223A'\n",
      " 'Y3593XA' 'S72445D' 'S12030D' 'S4292XA' 'M80871D' 'T466X5A' 'N2885'\n",
      " 'S12390D' 'S82045H' 'I83011' 'T86898' 'O43892' 'R203' 'H04131' 'M41117'\n",
      " 'S82151B' 'S82041K' 'S62235D' 'M342' 'S42222D' 'S062X0D' 'S4342'\n",
      " 'M8080XP' 'S52109H' 'Z020' 'Y37220S' 'V733' 'S66100D' 'T82118S' 'T5392XS'\n",
      " 'M1023' 'S42024D' 'S298' 'D173' 'S66319A' 'S61419A' 'M00052' 'S5620'\n",
      " 'S590' 'S52541S' 'S72445M' 'S89049A' 'S01311A' 'T17390' 'S92812D'\n",
      " 'S56113D' 'S238XXS' 'S99132G' 'S3215XB' 'O9122' 'S59801' 'M84433A' 'Z451'\n",
      " 'V00832S' 'G4759' 'V2960XA' 'G718' 'S83409' 'S20362A' 'V110XXS' 'S52251K'\n",
      " 'S12690D' 'S83105A' 'M6127' 'S72423S' 'X52XXXS' 'S3590XS' 'T24602A'\n",
      " 'S471XXD' 'S63006' 'S02632K' 'S52322G' 'S92222K' 'X35XXXD' 'V541XXD'\n",
      " 'T6306' 'H401422' 'Y9302' 'S72455J' 'T3182' 'S63035S' 'L97213' 'T68XXXS'\n",
      " 'S6791XS' 'T7114' 'M80842K' 'Z13' 'S90549D' 'W2107XD' 'M2325' 'W139XXD'\n",
      " 'T481X4' 'T23109A' 'S92523P' 'Z283' 'Z8541' 'S32058K' 'W5612XD' 'S62134B'\n",
      " 'S83111D' 'S52041C' 'S85189' 'L441' 'H4913' 'I741' 'S12101' 'T85828'\n",
      " 'M65232' 'S62327B' 'S56221S' 'S91222D' 'S82035M' 'T468X3A' 'D683'\n",
      " 'T618X2D' 'V0111XS' 'P780' 'W621XXS' 'S14135D' 'T507X3' 'H11022'\n",
      " 'S59192S' 'S11021' 'K51519' 'S52256B' 'S20301' 'M7981' 'T366X5D' 'Y62'\n",
      " 'S62185' 'V711' 'S61122' 'O324XX3' 'T63444S' 'S82452' 'T6403XS' 'S42262A'\n",
      " 'M02812' 'T23609S' 'Q51' 'S065X1A' 'Q226' 'S72425H' 'W320XXD' 'T39091S'\n",
      " 'S99102G' 'T475X6A' 'S42333G' 'T40993' 'M2555' 'J208' 'S42154G' 'S82264J'\n",
      " 'X928' 'T3185' 'S3134XA' 'Y92232' 'F10250' 'Z825' 'T8242XA' 'M110'\n",
      " 'S91153S' 'R871' 'M66352' 'M8972' 'S49112' 'T433X6A' 'T457X6S' 'S59802A'\n",
      " 'S82243J' 'S01152S' 'S82466H' 'S52009D' 'S1989XS' 'S66313D' 'A154'\n",
      " 'G9529' 'I82711' 'T63414A' 'A928' 'A3685' 'V401XXA' 'H4050X1' 'M12451'\n",
      " 'T82868' 'S92911G' 'S0280XD' 'T402X6S' 'Z044' 'S73011' 'H1604' 'S62656'\n",
      " 'M80012K' 'C858' 'S2091XS' 'S42212G' 'J8411' 'S72091S' 'S72456Q'\n",
      " 'R402433' 'S76119S' 'R098' 'S73129S' 'S52236A' 'X004XXD' 'H16243' 'B3323'\n",
      " 'M2361' 'S53101D' 'S00552A' 'S82156G' 'H5017' 'S8390' 'H1812' 'S83112A'\n",
      " 'V830XXD' 'N7681' 'S52699A' 'S63439D' 'S660' 'S88911A' 'S53015S'\n",
      " 'S46919A' 'S25811D' 'W0111' 'T468X5S' 'Q051' 'S46019D' 'S27898S'\n",
      " 'S52122B' 'T374X3A' 'S8314' 'A241' 'I2111' 'M86451' 'V666XXD' 'S42455K'\n",
      " 'S31119D' 'S76091D' 'M84432' 'M205X' 'S82201P' 'S72144E' 'S68711S'\n",
      " 'V4351XS' 'S52311G' 'G318' 'S82425B' 'K1233' 'A1859' 'M12322' 'S153'\n",
      " 'S6111' 'H47021' 'T34531S' 'T43634A' 'S3792XA' 'H0019' 'S92101S' 'N99533'\n",
      " 'S52245J' 'V879XXS' 'T63591S' 'E875' 'M88871' 'S42424S' 'T467X1S'\n",
      " 'V9361XD' 'O42911' 'K80' 'S2222' 'S52043K' 'W16021' 'S12351' 'S82146S'\n",
      " 'S72455A' 'S52224S' 'T80212S' 'S27391S' 'P920' 'M308' 'Y3709' 'S72361C'\n",
      " 'Q122' 'H5052' 'S96112' 'H01021' 'T23291D' 'G7089' 'T81591A' 'S0269XB'\n",
      " 'M05161' 'A849' 'S56108' 'K869' 'S62654G' 'H11142' 'O2252' 'S80262'\n",
      " 'S67192A' 'O30829' 'H011' 'V8672XD' 'M7101' 'S72346H' 'H44119' 'G9341'\n",
      " 'V9313XA' 'T65893S' 'D1339' 'T523X1A' 'S83409A' 'W132XXD' 'S70319A'\n",
      " 'L0233' 'T63592' 'S63694A' 'S52243H' 'S82112N' 'M4632' 'J633' 'O3620X1'\n",
      " 'C8469' 'S95091S' 'S6610' 'I70429']\n",
      "------------------------------------------------------\n"
     ]
    }
   ],
   "source": [
    "# Your code here:\n",
    "num = ['patient_gender', 'doctor_name', 'prescribed_medicines', 'diagnosis']\n",
    "for i in patients[num]:\n",
    "    print(patients[i].unique())\n",
    "    print('------------------------------------------------------')"
   ]
  },
  {
   "cell_type": "markdown",
   "metadata": {},
   "source": [
    "#### The number of unique values is large for all three columns except `patient_gender`. We will handle these columns differently.\n",
    "\n",
    "For `diagnosis`, there are too many unique values which will make ML difficult. However, we can re-encode the values to either with or without diagnosis. Remember at an earlier step we filled in the missing values of this column with *no diagnosis*? We can re-encode *no diagnosis* to `0` and all other values to `1`. In this way we can tremendously simply this column.\n",
    "\n",
    "For `prescribed_medicines`, we can drop this column because it is perfectly correlated with `diagnosis`. Whenever there is no diagnosis, there is no prescribed medicine. So we don't need to keep this duplicated data.\n",
    "\n",
    "How about `doctor_name`? There are not excessive unique values but still quite many (19). We may either drop or keep it but keeping it will make the analysis more complicated. So due to the length of this lab let's drop it.\n",
    "\n",
    "How about `gender`? This one is easy. Just like re-encoding the boolean values, we can re-encode gender to `0` and `1` because there are only 2 unique values.\n",
    "\n",
    "In the next cells, do the following:\n",
    "\n",
    "1. Create a new column called `diagnosis_int` that has `0` and `1` based on the values in `diagnosis`.\n",
    "\n",
    "1. Create a new column called `patient_gender_int` that has `0` and `1` based on the values in `patient_gender`.\n",
    "\n",
    "1. Drop the following columns: `doctor_name`, `diagnosis`, `prescribed_medicines`, and `patient_gender`."
   ]
  },
  {
   "cell_type": "code",
   "execution_count": 47,
   "metadata": {},
   "outputs": [],
   "source": [
    "# Your code here:\n",
    "patients['diagnosis_int'] = np.where(patients['diagnosis'] == 'diagnosis', 1,0)"
   ]
  },
  {
   "cell_type": "code",
   "execution_count": 48,
   "metadata": {},
   "outputs": [],
   "source": [
    "patients['patient_gender_int'] = np.where(patients['patient_gender'] == 'Male', 1,0)\n",
    "patients.drop(['doctor_name', 'diagnosis', 'prescribed_medicines', 'patient_gender'], axis = 1, inplace=True)"
   ]
  },
  {
   "cell_type": "markdown",
   "metadata": {},
   "source": [
    "Let's look at the head again to ensure the re-encoding and dropping are successful:"
   ]
  },
  {
   "cell_type": "code",
   "execution_count": 49,
   "metadata": {},
   "outputs": [
    {
     "data": {
      "text/html": [
       "<div>\n",
       "<style scoped>\n",
       "    .dataframe tbody tr th:only-of-type {\n",
       "        vertical-align: middle;\n",
       "    }\n",
       "\n",
       "    .dataframe tbody tr th {\n",
       "        vertical-align: top;\n",
       "    }\n",
       "\n",
       "    .dataframe thead th {\n",
       "        text-align: right;\n",
       "    }\n",
       "</style>\n",
       "<table border=\"1\" class=\"dataframe\">\n",
       "  <thead>\n",
       "    <tr style=\"text-align: right;\">\n",
       "      <th></th>\n",
       "      <th>patient_dob</th>\n",
       "      <th>patient_diabetic</th>\n",
       "      <th>patient_allergic</th>\n",
       "      <th>patient_weight_kg</th>\n",
       "      <th>patient_height_sm</th>\n",
       "      <th>appointment_date</th>\n",
       "      <th>patient_show</th>\n",
       "      <th>is_regular_visit</th>\n",
       "      <th>diagnosis_int</th>\n",
       "      <th>patient_gender_int</th>\n",
       "    </tr>\n",
       "  </thead>\n",
       "  <tbody>\n",
       "    <tr>\n",
       "      <th>0</th>\n",
       "      <td>2018-10-18</td>\n",
       "      <td>False</td>\n",
       "      <td>True</td>\n",
       "      <td>59</td>\n",
       "      <td>176</td>\n",
       "      <td>2018-05-01</td>\n",
       "      <td>True</td>\n",
       "      <td>True</td>\n",
       "      <td>0</td>\n",
       "      <td>0</td>\n",
       "    </tr>\n",
       "    <tr>\n",
       "      <th>1</th>\n",
       "      <td>2018-02-08</td>\n",
       "      <td>False</td>\n",
       "      <td>True</td>\n",
       "      <td>77</td>\n",
       "      <td>186</td>\n",
       "      <td>2017-12-07</td>\n",
       "      <td>True</td>\n",
       "      <td>True</td>\n",
       "      <td>0</td>\n",
       "      <td>0</td>\n",
       "    </tr>\n",
       "    <tr>\n",
       "      <th>2</th>\n",
       "      <td>2018-10-09</td>\n",
       "      <td>True</td>\n",
       "      <td>True</td>\n",
       "      <td>90</td>\n",
       "      <td>177</td>\n",
       "      <td>2018-10-05</td>\n",
       "      <td>False</td>\n",
       "      <td>False</td>\n",
       "      <td>0</td>\n",
       "      <td>0</td>\n",
       "    </tr>\n",
       "    <tr>\n",
       "      <th>3</th>\n",
       "      <td>2018-09-10</td>\n",
       "      <td>True</td>\n",
       "      <td>True</td>\n",
       "      <td>70</td>\n",
       "      <td>150</td>\n",
       "      <td>2018-10-21</td>\n",
       "      <td>False</td>\n",
       "      <td>True</td>\n",
       "      <td>0</td>\n",
       "      <td>1</td>\n",
       "    </tr>\n",
       "    <tr>\n",
       "      <th>4</th>\n",
       "      <td>2018-02-26</td>\n",
       "      <td>False</td>\n",
       "      <td>True</td>\n",
       "      <td>82</td>\n",
       "      <td>140</td>\n",
       "      <td>2018-11-15</td>\n",
       "      <td>False</td>\n",
       "      <td>False</td>\n",
       "      <td>0</td>\n",
       "      <td>0</td>\n",
       "    </tr>\n",
       "  </tbody>\n",
       "</table>\n",
       "</div>"
      ],
      "text/plain": [
       "  patient_dob  patient_diabetic  patient_allergic  patient_weight_kg  \\\n",
       "0  2018-10-18             False              True                 59   \n",
       "1  2018-02-08             False              True                 77   \n",
       "2  2018-10-09              True              True                 90   \n",
       "3  2018-09-10              True              True                 70   \n",
       "4  2018-02-26             False              True                 82   \n",
       "\n",
       "   patient_height_sm appointment_date  patient_show  is_regular_visit  \\\n",
       "0                176       2018-05-01          True              True   \n",
       "1                186       2017-12-07          True              True   \n",
       "2                177       2018-10-05         False             False   \n",
       "3                150       2018-10-21         False              True   \n",
       "4                140       2018-11-15         False             False   \n",
       "\n",
       "   diagnosis_int  patient_gender_int  \n",
       "0              0                   0  \n",
       "1              0                   0  \n",
       "2              0                   0  \n",
       "3              0                   1  \n",
       "4              0                   0  "
      ]
     },
     "execution_count": 49,
     "metadata": {},
     "output_type": "execute_result"
    }
   ],
   "source": [
    "# Your code here:\n",
    "patients.head()"
   ]
  },
  {
   "cell_type": "markdown",
   "metadata": {},
   "source": [
    "An interesting observation is that all patients are no older than 2 years. However, their weights and heights indicate that they are adults. This cannot be true. Therefore, we can either trust the weight and height columns or the DOB column. Since there are other columns that indicate that these are adults (they have emails, some have diabetes) we will drop the `patient_dob` column. We will also drop the `appointment_date` column since it has too many unique values to transform to a dummy variable. Drop the two columns in the cell below."
   ]
  },
  {
   "cell_type": "code",
   "execution_count": 50,
   "metadata": {},
   "outputs": [],
   "source": [
    "# Your code here:\n",
    "patients.drop(['patient_dob', 'appointment_date'], axis =1, inplace=True)"
   ]
  },
  {
   "cell_type": "markdown",
   "metadata": {},
   "source": [
    "#### Our data is now ready for clustering. Let's use k-means again.\n",
    "\n",
    "We start by initializing and fitting a model in the cell below. Call this model patients_cluster."
   ]
  },
  {
   "cell_type": "code",
   "execution_count": 54,
   "metadata": {},
   "outputs": [
    {
     "data": {
      "text/plain": [
       "KMeans(n_clusters=4)"
      ]
     },
     "execution_count": 54,
     "metadata": {},
     "output_type": "execute_result"
    }
   ],
   "source": [
    "# Your code here:\n",
    "patients_cluster = KMeans(n_clusters = 4)\n",
    "patients_cluster.fit(patients)"
   ]
  },
  {
   "cell_type": "markdown",
   "metadata": {},
   "source": [
    "Attach the labels to the dataframe. Do this by accessing the `labels_` in the `patients_cluster` model and assign them to a new column in `patients` that you will call `labels`."
   ]
  },
  {
   "cell_type": "code",
   "execution_count": 59,
   "metadata": {},
   "outputs": [],
   "source": [
    "# Your code here:\n",
    "patients['labels']=patients_cluster.labels_"
   ]
  },
  {
   "cell_type": "markdown",
   "metadata": {},
   "source": [
    "Now using a `groupby`, find the mean of every variable in `patients` and group by the `labels` column. This summary will allow us to see how the patients differ between the clusters. Your output should look similar to the image below.\n",
    "\n",
    "![groupby mean](../groupby-mean.png)\n",
    "\n",
    "Additionally, add a comment to describe which columns have the largest difference between clusters."
   ]
  },
  {
   "cell_type": "code",
   "execution_count": 61,
   "metadata": {},
   "outputs": [
    {
     "data": {
      "text/html": [
       "<div>\n",
       "<style scoped>\n",
       "    .dataframe tbody tr th:only-of-type {\n",
       "        vertical-align: middle;\n",
       "    }\n",
       "\n",
       "    .dataframe tbody tr th {\n",
       "        vertical-align: top;\n",
       "    }\n",
       "\n",
       "    .dataframe thead th {\n",
       "        text-align: right;\n",
       "    }\n",
       "</style>\n",
       "<table border=\"1\" class=\"dataframe\">\n",
       "  <thead>\n",
       "    <tr style=\"text-align: right;\">\n",
       "      <th></th>\n",
       "      <th>patient_diabetic</th>\n",
       "      <th>patient_allergic</th>\n",
       "      <th>patient_weight_kg</th>\n",
       "      <th>patient_height_sm</th>\n",
       "      <th>patient_show</th>\n",
       "      <th>is_regular_visit</th>\n",
       "      <th>diagnosis_int</th>\n",
       "      <th>patient_gender_int</th>\n",
       "    </tr>\n",
       "    <tr>\n",
       "      <th>labels</th>\n",
       "      <th></th>\n",
       "      <th></th>\n",
       "      <th></th>\n",
       "      <th></th>\n",
       "      <th></th>\n",
       "      <th></th>\n",
       "      <th></th>\n",
       "      <th></th>\n",
       "    </tr>\n",
       "  </thead>\n",
       "  <tbody>\n",
       "    <tr>\n",
       "      <th>0</th>\n",
       "      <td>0.552511</td>\n",
       "      <td>0.525114</td>\n",
       "      <td>97.557078</td>\n",
       "      <td>153.319635</td>\n",
       "      <td>0.488584</td>\n",
       "      <td>0.502283</td>\n",
       "      <td>0.0</td>\n",
       "      <td>0.520548</td>\n",
       "    </tr>\n",
       "    <tr>\n",
       "      <th>1</th>\n",
       "      <td>0.492063</td>\n",
       "      <td>0.488095</td>\n",
       "      <td>94.063492</td>\n",
       "      <td>178.686508</td>\n",
       "      <td>0.503968</td>\n",
       "      <td>0.531746</td>\n",
       "      <td>0.0</td>\n",
       "      <td>0.456349</td>\n",
       "    </tr>\n",
       "    <tr>\n",
       "      <th>2</th>\n",
       "      <td>0.508333</td>\n",
       "      <td>0.533333</td>\n",
       "      <td>62.900000</td>\n",
       "      <td>176.954167</td>\n",
       "      <td>0.475000</td>\n",
       "      <td>0.495833</td>\n",
       "      <td>0.0</td>\n",
       "      <td>0.454167</td>\n",
       "    </tr>\n",
       "    <tr>\n",
       "      <th>3</th>\n",
       "      <td>0.506494</td>\n",
       "      <td>0.493506</td>\n",
       "      <td>65.432900</td>\n",
       "      <td>152.354978</td>\n",
       "      <td>0.510823</td>\n",
       "      <td>0.558442</td>\n",
       "      <td>0.0</td>\n",
       "      <td>0.554113</td>\n",
       "    </tr>\n",
       "  </tbody>\n",
       "</table>\n",
       "</div>"
      ],
      "text/plain": [
       "        patient_diabetic  patient_allergic  patient_weight_kg  \\\n",
       "labels                                                          \n",
       "0               0.552511          0.525114          97.557078   \n",
       "1               0.492063          0.488095          94.063492   \n",
       "2               0.508333          0.533333          62.900000   \n",
       "3               0.506494          0.493506          65.432900   \n",
       "\n",
       "        patient_height_sm  patient_show  is_regular_visit  diagnosis_int  \\\n",
       "labels                                                                     \n",
       "0              153.319635      0.488584          0.502283            0.0   \n",
       "1              178.686508      0.503968          0.531746            0.0   \n",
       "2              176.954167      0.475000          0.495833            0.0   \n",
       "3              152.354978      0.510823          0.558442            0.0   \n",
       "\n",
       "        patient_gender_int  \n",
       "labels                      \n",
       "0                 0.520548  \n",
       "1                 0.456349  \n",
       "2                 0.454167  \n",
       "3                 0.554113  "
      ]
     },
     "execution_count": 61,
     "metadata": {},
     "output_type": "execute_result"
    }
   ],
   "source": [
    "# Your code here:\n",
    "patients.groupby('labels').mean()"
   ]
  },
  {
   "cell_type": "code",
   "execution_count": 65,
   "metadata": {},
   "outputs": [],
   "source": [
    "# Your comment here:\n"
   ]
  },
  {
   "cell_type": "markdown",
   "metadata": {},
   "source": [
    "# Bonus Challenge: Visualize K-Means Clusters\n",
    "\n",
    "How did k-means cluster the data? You can obtain an intuitive view with a scatter plot. Generate a 2-d cluster plot below using `matplotlib`. You need to choose 2 of the features from your cleaned and transformed dataset, and use color to represent the cluster label generated from k-means.\n",
    "\n",
    "If the scatter plot does not make any sense to you, it means the features you chose to visualize are not the right ones. You should be able to see 4 clear clusters with different colors in your visualization that suggests how k-means had clustered your data.\n",
    "\n",
    "![Cluster Visualization](../clusters.png)"
   ]
  },
  {
   "cell_type": "code",
   "execution_count": 64,
   "metadata": {},
   "outputs": [
    {
     "data": {
      "image/png": "[encoded data removed]",
      "text/plain": [
       "<Figure size 720x720 with 2 Axes>"
      ]
     },
     "metadata": {
      "needs_background": "light"
     },
     "output_type": "display_data"
    }
   ],
   "source": [
    "# Your code here:\n",
    "fig=plt.figure(figsize=(10,10))\n",
    "plt.scatter(patients.patient_weight_kg,patients.patient_height_sm,c=patients.labels,s=100)\n",
    "plt.colorbar()\n",
    "plt.show()"
   ]
  },
  {
   "cell_type": "markdown",
   "metadata": {},
   "source": [
    "Additionally, you can visualize the clusters in 3-D scatter plot. Give it a try below."
   ]
  },
  {
   "cell_type": "code",
   "execution_count": 63,
   "metadata": {},
   "outputs": [
    {
     "data": {
      "image/png": "[encoded data removed]",
      "text/plain": [
       "<Figure size 432x288 with 1 Axes>"
      ]
     },
     "metadata": {
      "needs_background": "light"
     },
     "output_type": "display_data"
    }
   ],
   "source": [
    "# Your code here:\n",
    "fig=plt.figure()\n",
    "ax = fig.add_subplot(111, projection='3d')\n",
    "ax.scatter(patients.patient_weight_kg,patients.patient_height_sm,patients.patient_gender_int,c=patients.labels)\n",
    "plt.show()"
   ]
  },
  {
   "cell_type": "code",
   "execution_count": null,
   "metadata": {},
   "outputs": [],
   "source": []
  }
 ],
 "metadata": {
  "kernelspec": {
   "display_name": "Python 3 (ipykernel)",
   "language": "python",
   "name": "python3"
  },
  "language_info": {
   "codemirror_mode": {
    "name": "ipython",
    "version": 3
   },
   "file_extension": ".py",
   "mimetype": "text/x-python",
   "name": "python",
   "nbconvert_exporter": "python",
   "pygments_lexer": "ipython3",
   "version": "3.9.12"
  }
 },
 "nbformat": 4,
 "nbformat_minor": 2
}
